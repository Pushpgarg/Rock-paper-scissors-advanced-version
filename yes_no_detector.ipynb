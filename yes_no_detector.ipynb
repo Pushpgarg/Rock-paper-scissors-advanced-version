{
  "nbformat": 4,
  "nbformat_minor": 0,
  "metadata": {
    "colab": {
      "provenance": []
    },
    "kernelspec": {
      "name": "python3",
      "display_name": "Python 3"
    },
    "language_info": {
      "name": "python"
    }
  },
  "cells": [
    {
      "cell_type": "code",
      "execution_count": null,
      "metadata": {
        "id": "3PAsCvB1rmrv"
      },
      "outputs": [],
      "source": [
        "import pandas as pd\n",
        "import numpy as np\n",
        "import re\n",
        "import nltk\n",
        "import random"
      ]
    },
    {
      "cell_type": "code",
      "source": [
        "dataset = pd.read_csv('dataset.csv')"
      ],
      "metadata": {
        "id": "OFwIXzG6r9c-"
      },
      "execution_count": 20,
      "outputs": []
    },
    {
      "cell_type": "code",
      "source": [
        "import nltk\n",
        "import re\n",
        "from nltk.corpus import stopwords\n",
        "from nltk.stem import WordNetLemmatizer\n",
        "\n",
        "# Download necessary NLTK data files\n",
        "nltk.download('stopwords')\n",
        "nltk.download('wordnet')\n",
        "nltk.download('omw-1.4')\n",
        "\n",
        "# Initialize lemmatizer and stopwords\n",
        "lemmatizer = WordNetLemmatizer()\n",
        "all_stopwords = stopwords.words('english')\n",
        "\n",
        "# Specify words to remove from stopwords\n",
        "words_to_remove_from_stopwords = [\n",
        "    'not','in',\"can't\",'no','nor','a','b','c','d','with','but','don', \"don't\",'ain',\n",
        "    'aren', \"aren't\", 'couldn', \"couldn't\",'didn', \"didn't\", 'doesn', \"doesn't\",'won',\n",
        "    \"won't\", 'wouldn', \"wouldn't\",\"why\"\n",
        "]\n",
        "\n",
        "# Remove specified words from stopwords\n",
        "for word in words_to_remove_from_stopwords:\n",
        "    if word in all_stopwords:\n",
        "        all_stopwords.remove(word)\n",
        "\n",
        "# Process text\n",
        "corpus = []\n",
        "length = len(dataset['text'])\n",
        "for i in range(length):\n",
        "    review = re.sub('[^a-zA-Z\\']', ' ', dataset['text'][i])  # Keep apostrophes\n",
        "    review = review.lower()\n",
        "    review = review.split()\n",
        "    review = [lemmatizer.lemmatize(word) for word in review if not word in set(all_stopwords)]\n",
        "    review = ' '.join(review)\n",
        "    corpus.append(review)\n",
        "\n",
        "print(corpus[:10])  # Print the first 10 processed texts for verification\n",
        "print(all_stopwords)\n"
      ],
      "metadata": {
        "id": "abmnjNrgr3WJ",
        "colab": {
          "base_uri": "https://localhost:8080/"
        },
        "outputId": "073723bc-de0a-4160-c0fe-bb9410bd9484"
      },
      "execution_count": 21,
      "outputs": [
        {
          "output_type": "stream",
          "name": "stdout",
          "text": [
            "['absolutely', 'not', \"i'm in\", 'no way', 'count in', \"don't want\", 'sure thing', 'no thanks', 'definitely', 'not interested']\n",
            "['i', 'me', 'my', 'myself', 'we', 'our', 'ours', 'ourselves', 'you', \"you're\", \"you've\", \"you'll\", \"you'd\", 'your', 'yours', 'yourself', 'yourselves', 'he', 'him', 'his', 'himself', 'she', \"she's\", 'her', 'hers', 'herself', 'it', \"it's\", 'its', 'itself', 'they', 'them', 'their', 'theirs', 'themselves', 'what', 'which', 'who', 'whom', 'this', 'that', \"that'll\", 'these', 'those', 'am', 'is', 'are', 'was', 'were', 'be', 'been', 'being', 'have', 'has', 'had', 'having', 'do', 'does', 'did', 'doing', 'an', 'the', 'and', 'if', 'or', 'because', 'as', 'until', 'while', 'of', 'at', 'by', 'for', 'about', 'against', 'between', 'into', 'through', 'during', 'before', 'after', 'above', 'below', 'to', 'from', 'up', 'down', 'out', 'on', 'off', 'over', 'under', 'again', 'further', 'then', 'once', 'here', 'there', 'when', 'where', 'how', 'all', 'any', 'both', 'each', 'few', 'more', 'most', 'other', 'some', 'such', 'only', 'own', 'same', 'so', 'than', 'too', 'very', 's', 't', 'can', 'will', 'just', 'should', \"should've\", 'now', 'll', 'm', 'o', 're', 've', 'y', 'hadn', \"hadn't\", 'hasn', \"hasn't\", 'haven', \"haven't\", 'isn', \"isn't\", 'ma', 'mightn', \"mightn't\", 'mustn', \"mustn't\", 'needn', \"needn't\", 'shan', \"shan't\", 'shouldn', \"shouldn't\", 'wasn', \"wasn't\", 'weren', \"weren't\"]\n"
          ]
        },
        {
          "output_type": "stream",
          "name": "stderr",
          "text": [
            "[nltk_data] Downloading package stopwords to /root/nltk_data...\n",
            "[nltk_data]   Package stopwords is already up-to-date!\n",
            "[nltk_data] Downloading package wordnet to /root/nltk_data...\n",
            "[nltk_data]   Package wordnet is already up-to-date!\n",
            "[nltk_data] Downloading package omw-1.4 to /root/nltk_data...\n",
            "[nltk_data]   Package omw-1.4 is already up-to-date!\n"
          ]
        }
      ]
    },
    {
      "cell_type": "code",
      "source": [
        "from sklearn.feature_extraction.text import TfidfVectorizer\n",
        "vectorizer = TfidfVectorizer(ngram_range=(1, 3))\n",
        "X = vectorizer.fit_transform(corpus)\n",
        "y = dataset['label']"
      ],
      "metadata": {
        "id": "qJ-50TD5yA7l"
      },
      "execution_count": 22,
      "outputs": []
    },
    {
      "cell_type": "code",
      "source": [
        "from sklearn.model_selection import train_test_split\n",
        "\n",
        "X_train, X_test, y_train, y_test = train_test_split(X, y, test_size=0.3, random_state=0)"
      ],
      "metadata": {
        "id": "JX3rZDHO9Yg5"
      },
      "execution_count": 23,
      "outputs": []
    },
    {
      "cell_type": "code",
      "source": [
        "from sklearn.ensemble import RandomForestClassifier\n",
        "classifier = RandomForestClassifier(bootstrap = False, criterion = 'gini', max_depth = None, max_features =  'log2', min_samples_leaf = 1, min_samples_split = 2, n_estimators = 200)\n",
        "classifier.fit(X_train, y_train)\n",
        "\n"
      ],
      "metadata": {
        "colab": {
          "base_uri": "https://localhost:8080/",
          "height": 75
        },
        "id": "_vE8aHCQ9iW7",
        "outputId": "72b31a00-a7a0-4e36-cacf-e2e08d4d9051"
      },
      "execution_count": 24,
      "outputs": [
        {
          "output_type": "execute_result",
          "data": {
            "text/plain": [
              "RandomForestClassifier(bootstrap=False, max_features='log2', n_estimators=200)"
            ],
            "text/html": [
              "<style>#sk-container-id-2 {color: black;background-color: white;}#sk-container-id-2 pre{padding: 0;}#sk-container-id-2 div.sk-toggleable {background-color: white;}#sk-container-id-2 label.sk-toggleable__label {cursor: pointer;display: block;width: 100%;margin-bottom: 0;padding: 0.3em;box-sizing: border-box;text-align: center;}#sk-container-id-2 label.sk-toggleable__label-arrow:before {content: \"▸\";float: left;margin-right: 0.25em;color: #696969;}#sk-container-id-2 label.sk-toggleable__label-arrow:hover:before {color: black;}#sk-container-id-2 div.sk-estimator:hover label.sk-toggleable__label-arrow:before {color: black;}#sk-container-id-2 div.sk-toggleable__content {max-height: 0;max-width: 0;overflow: hidden;text-align: left;background-color: #f0f8ff;}#sk-container-id-2 div.sk-toggleable__content pre {margin: 0.2em;color: black;border-radius: 0.25em;background-color: #f0f8ff;}#sk-container-id-2 input.sk-toggleable__control:checked~div.sk-toggleable__content {max-height: 200px;max-width: 100%;overflow: auto;}#sk-container-id-2 input.sk-toggleable__control:checked~label.sk-toggleable__label-arrow:before {content: \"▾\";}#sk-container-id-2 div.sk-estimator input.sk-toggleable__control:checked~label.sk-toggleable__label {background-color: #d4ebff;}#sk-container-id-2 div.sk-label input.sk-toggleable__control:checked~label.sk-toggleable__label {background-color: #d4ebff;}#sk-container-id-2 input.sk-hidden--visually {border: 0;clip: rect(1px 1px 1px 1px);clip: rect(1px, 1px, 1px, 1px);height: 1px;margin: -1px;overflow: hidden;padding: 0;position: absolute;width: 1px;}#sk-container-id-2 div.sk-estimator {font-family: monospace;background-color: #f0f8ff;border: 1px dotted black;border-radius: 0.25em;box-sizing: border-box;margin-bottom: 0.5em;}#sk-container-id-2 div.sk-estimator:hover {background-color: #d4ebff;}#sk-container-id-2 div.sk-parallel-item::after {content: \"\";width: 100%;border-bottom: 1px solid gray;flex-grow: 1;}#sk-container-id-2 div.sk-label:hover label.sk-toggleable__label {background-color: #d4ebff;}#sk-container-id-2 div.sk-serial::before {content: \"\";position: absolute;border-left: 1px solid gray;box-sizing: border-box;top: 0;bottom: 0;left: 50%;z-index: 0;}#sk-container-id-2 div.sk-serial {display: flex;flex-direction: column;align-items: center;background-color: white;padding-right: 0.2em;padding-left: 0.2em;position: relative;}#sk-container-id-2 div.sk-item {position: relative;z-index: 1;}#sk-container-id-2 div.sk-parallel {display: flex;align-items: stretch;justify-content: center;background-color: white;position: relative;}#sk-container-id-2 div.sk-item::before, #sk-container-id-2 div.sk-parallel-item::before {content: \"\";position: absolute;border-left: 1px solid gray;box-sizing: border-box;top: 0;bottom: 0;left: 50%;z-index: -1;}#sk-container-id-2 div.sk-parallel-item {display: flex;flex-direction: column;z-index: 1;position: relative;background-color: white;}#sk-container-id-2 div.sk-parallel-item:first-child::after {align-self: flex-end;width: 50%;}#sk-container-id-2 div.sk-parallel-item:last-child::after {align-self: flex-start;width: 50%;}#sk-container-id-2 div.sk-parallel-item:only-child::after {width: 0;}#sk-container-id-2 div.sk-dashed-wrapped {border: 1px dashed gray;margin: 0 0.4em 0.5em 0.4em;box-sizing: border-box;padding-bottom: 0.4em;background-color: white;}#sk-container-id-2 div.sk-label label {font-family: monospace;font-weight: bold;display: inline-block;line-height: 1.2em;}#sk-container-id-2 div.sk-label-container {text-align: center;}#sk-container-id-2 div.sk-container {/* jupyter's `normalize.less` sets `[hidden] { display: none; }` but bootstrap.min.css set `[hidden] { display: none !important; }` so we also need the `!important` here to be able to override the default hidden behavior on the sphinx rendered scikit-learn.org. See: https://github.com/scikit-learn/scikit-learn/issues/21755 */display: inline-block !important;position: relative;}#sk-container-id-2 div.sk-text-repr-fallback {display: none;}</style><div id=\"sk-container-id-2\" class=\"sk-top-container\"><div class=\"sk-text-repr-fallback\"><pre>RandomForestClassifier(bootstrap=False, max_features=&#x27;log2&#x27;, n_estimators=200)</pre><b>In a Jupyter environment, please rerun this cell to show the HTML representation or trust the notebook. <br />On GitHub, the HTML representation is unable to render, please try loading this page with nbviewer.org.</b></div><div class=\"sk-container\" hidden><div class=\"sk-item\"><div class=\"sk-estimator sk-toggleable\"><input class=\"sk-toggleable__control sk-hidden--visually\" id=\"sk-estimator-id-2\" type=\"checkbox\" checked><label for=\"sk-estimator-id-2\" class=\"sk-toggleable__label sk-toggleable__label-arrow\">RandomForestClassifier</label><div class=\"sk-toggleable__content\"><pre>RandomForestClassifier(bootstrap=False, max_features=&#x27;log2&#x27;, n_estimators=200)</pre></div></div></div></div></div>"
            ]
          },
          "metadata": {},
          "execution_count": 24
        }
      ]
    },
    {
      "cell_type": "code",
      "source": [
        "from sklearn.metrics import confusion_matrix, accuracy_score\n",
        "\n",
        "y_pred = classifier.predict(X_test)\n",
        "cm = confusion_matrix(y_test, y_pred)\n",
        "print(cm)\n",
        "accuracy_score(y_test, y_pred)"
      ],
      "metadata": {
        "colab": {
          "base_uri": "https://localhost:8080/"
        },
        "id": "_Bzrnrrd9eMH",
        "outputId": "fe05d346-afe1-408f-ac85-d50dbb6f94b8"
      },
      "execution_count": 25,
      "outputs": [
        {
          "output_type": "stream",
          "name": "stdout",
          "text": [
            "[[54  5]\n",
            " [ 0 63]]\n"
          ]
        },
        {
          "output_type": "execute_result",
          "data": {
            "text/plain": [
              "0.9590163934426229"
            ]
          },
          "metadata": {},
          "execution_count": 25
        }
      ]
    },
    {
      "cell_type": "code",
      "source": [
        "from sklearn.model_selection import cross_val_score, StratifiedKFold\n",
        "from sklearn.ensemble import RandomForestClassifier\n",
        "from sklearn.metrics import accuracy_score, classification_report\n",
        "import numpy as np\n",
        "\n",
        "# Assuming X and y are your features and target labels\n",
        "# Replace X and y with your actual data\n",
        "\n",
        "# Initialize the classifier\n",
        "classifier = RandomForestClassifier()\n",
        "\n",
        "# Initialize StratifiedKFold with k=5\n",
        "cv = StratifiedKFold(n_splits=10, shuffle=True)\n",
        "\n",
        "# Perform k-fold cross-validation\n",
        "accuracy_scores = cross_val_score(classifier, X, y, cv=cv, scoring='accuracy', n_jobs=-1)\n",
        "\n",
        "# Print the accuracy scores for each fold\n",
        "print(\"Cross-validation accuracy scores:\")\n",
        "print(accuracy_scores)\n",
        "\n",
        "# Print the mean and standard deviation of the accuracy scores\n",
        "print(f\"Mean accuracy: {np.mean(accuracy_scores):.4f}\")\n",
        "print(f\"Standard deviation: {np.std(accuracy_scores):.4f}\")\n"
      ],
      "metadata": {
        "colab": {
          "base_uri": "https://localhost:8080/"
        },
        "id": "sbk8bTkE9pKW",
        "outputId": "2b7250e7-b128-4e8d-993c-e069206a820a"
      },
      "execution_count": 26,
      "outputs": [
        {
          "output_type": "stream",
          "name": "stdout",
          "text": [
            "Cross-validation accuracy scores:\n",
            "[1.         1.         0.97560976 1.         1.         1.\n",
            " 1.         1.         1.         1.        ]\n",
            "Mean accuracy: 0.9976\n",
            "Standard deviation: 0.0073\n"
          ]
        }
      ]
    },
    {
      "cell_type": "code",
      "source": [
        "# Assuming 'test_texts' list and other necessary variables (e.g., 'vectorizer', 'classifier') are defined\n",
        "\n",
        "test_texts = [\n",
        "    \"I'd love to play the game!\",\n",
        "    \"No way, not interested.\",\n",
        "    \"Sure, why not?\",\n",
        "    \"Absolutely not.\",\n",
        "    \"Count me in!\",\n",
        "    \"I'd rather not.\",\n",
        "    \"This sounds fun!\",\n",
        "    \"I'm not up for it.\",\n",
        "    \"Yes, let's do it!\",\n",
        "    \"No, thank you.\",\n",
        "]\n",
        "\n",
        "\n",
        "# Preprocess function\n",
        "def preprocess_text(text):\n",
        "    review = re.sub('[^a-zA-Z\\']', ' ', text)  # Keep apostrophes\n",
        "    review = review.lower()\n",
        "    review = review.split()\n",
        "    review = [lemmatizer.lemmatize(word) for word in review if not word in set(all_stopwords)]\n",
        "    review = ' '.join(review)\n",
        "    return review\n",
        "\n",
        "# Predict for each text in test_texts\n",
        "for text in test_texts:\n",
        "    processed_text = preprocess_text(text)\n",
        "    X_custom = vectorizer.transform([processed_text])\n",
        "\n",
        "    # Check if classifier is fitted, if not, fit it\n",
        "    if not hasattr(classifier, 'estimators_'):\n",
        "        classifier.fit(X_train, y_train)\n",
        "\n",
        "    # Predict class label using the trained classifier\n",
        "    predicted_class = classifier.predict(X_custom)[0]\n",
        "\n",
        "    # Print the predicted class\n",
        "    print(f\"Text: '{text}' -> Predicted class: {predicted_class}\")\n"
      ],
      "metadata": {
        "colab": {
          "base_uri": "https://localhost:8080/"
        },
        "id": "Q6tQIQl-9wtx",
        "outputId": "5f10970d-ca58-4089-f5ee-faa22f00a365"
      },
      "execution_count": 27,
      "outputs": [
        {
          "output_type": "stream",
          "name": "stdout",
          "text": [
            "Text: 'I'd love to play the game!' -> Predicted class: yes\n",
            "Text: 'No way, not interested.' -> Predicted class: no\n",
            "Text: 'Sure, why not?' -> Predicted class: yes\n",
            "Text: 'Absolutely not.' -> Predicted class: no\n",
            "Text: 'Count me in!' -> Predicted class: yes\n",
            "Text: 'I'd rather not.' -> Predicted class: no\n",
            "Text: 'This sounds fun!' -> Predicted class: yes\n",
            "Text: 'I'm not up for it.' -> Predicted class: no\n",
            "Text: 'Yes, let's do it!' -> Predicted class: yes\n",
            "Text: 'No, thank you.' -> Predicted class: no\n"
          ]
        }
      ]
    },
    {
      "cell_type": "code",
      "source": [
        "import joblib\n",
        "joblib.dump(classifier, 'model.pkl')\n",
        "joblib.dump(vectorizer, 'vectorizer.pkl')\n",
        "vector = joblib.load('vectorizer.pkl')\n",
        "mod = joblib.load('model.pkl')"
      ],
      "metadata": {
        "id": "944cpLTnm5G2"
      },
      "execution_count": 33,
      "outputs": []
    },
    {
      "cell_type": "code",
      "source": [
        "mod.predict(vector.transform([\"sure why not\"]))"
      ],
      "metadata": {
        "colab": {
          "base_uri": "https://localhost:8080/"
        },
        "id": "NHTXLukwosLy",
        "outputId": "b0aff1c0-1888-4ffd-c259-cc0097015d0c"
      },
      "execution_count": 37,
      "outputs": [
        {
          "output_type": "execute_result",
          "data": {
            "text/plain": [
              "array(['yes'], dtype=object)"
            ]
          },
          "metadata": {},
          "execution_count": 37
        }
      ]
    },
    {
      "cell_type": "code",
      "source": [],
      "metadata": {
        "id": "hr6K8o-IpunG"
      },
      "execution_count": null,
      "outputs": []
    }
  ]
}